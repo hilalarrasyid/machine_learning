{
  "nbformat": 4,
  "nbformat_minor": 0,
  "metadata": {
    "colab": {
      "name": "python_linear-regression.ipynb",
      "provenance": [],
      "collapsed_sections": [],
      "authorship_tag": "ABX9TyMT8Uoh61yiDoBMpJq2o3Ev",
      "include_colab_link": true
    },
    "kernelspec": {
      "name": "python3",
      "display_name": "Python 3"
    },
    "language_info": {
      "name": "python"
    }
  },
  "cells": [
    {
      "cell_type": "markdown",
      "metadata": {
        "id": "view-in-github",
        "colab_type": "text"
      },
      "source": [
        "<a href=\"https://colab.research.google.com/github/hilalarrasyid/me/blob/master/python_linear_regression.ipynb\" target=\"_parent\"><img src=\"https://colab.research.google.com/assets/colab-badge.svg\" alt=\"Open In Colab\"/></a>"
      ]
    },
    {
      "cell_type": "code",
      "execution_count": null,
      "metadata": {
        "colab": {
          "base_uri": "https://localhost:8080/"
        },
        "id": "uZp8dMpqqvvw",
        "outputId": "9217f2d2-59cf-4a15-9627-9f306b9ebe5c"
      },
      "outputs": [
        {
          "output_type": "execute_result",
          "data": {
            "text/plain": [
              "LinearRegression()"
            ]
          },
          "metadata": {},
          "execution_count": 92
        }
      ],
      "source": [
        "from sklearn.linear_model import LinearRegression\n",
        "from sklearn.model_selection import train_test_split\n",
        "import pandas as pd\n",
        "\n",
        "\n",
        "df = pd.read_csv(\"/content/sanbox/price_gold.csv\", delimiter=';', parse_dates=[0])\n",
        "\n",
        "df.dropna(axis=0)\n",
        "# xs = pd.to_datetime(df['date_post']).dt.strftime('%Y-%m-%d')\n",
        "\n",
        "x = df.iloc[:,:1].values\n",
        "\n",
        "y = df.iloc[:,1].values\n",
        "\n",
        "x_train, x_test, y_train, y_test = train_test_split(x, y, test_size=1/3, random_state=0)\n",
        "predict = LinearRegression()\n",
        "predict.fit(x_train, y_train)\n",
        "\n",
        "# display(df)\n"
      ]
    },
    {
      "cell_type": "code",
      "source": [
        "from matplotlib.pyplot import xcorr\n",
        "xcorr"
      ],
      "metadata": {
        "id": "izcqSmxrqyDN"
      },
      "execution_count": null,
      "outputs": []
    }
  ]
}